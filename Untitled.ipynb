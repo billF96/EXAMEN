{
 "cells": [
  {
   "cell_type": "code",
   "execution_count": 49,
   "id": "782fbac6-7d1c-4120-8f25-cd4a9532170c",
   "metadata": {},
   "outputs": [
    {
     "data": {
      "text/plain": [
       "62.5"
      ]
     },
     "execution_count": 49,
     "metadata": {},
     "output_type": "execute_result"
    }
   ],
   "source": [
    "#EXO 1 A\n",
    "\n",
    "def fnct_exo1 (x):\n",
    "    fnct_exo1 = (x**3) - 1.5*(x**2)- (6*x) + 5\n",
    "    return fnct_exo1\n",
    "fnct_exo1(5)"
   ]
  },
  {
   "cell_type": "code",
   "execution_count": 65,
   "id": "44e98f2a-5234-47bf-9bb8-e146ff24acf1",
   "metadata": {},
   "outputs": [
    {
     "name": "stdout",
     "output_type": "stream",
     "text": [
      "8 ! =  40320\n"
     ]
    }
   ],
   "source": [
    "#EXO 1 B\n",
    "\n",
    "def factorielle (nb): \n",
    "    fact = 1\n",
    "    for i in range(1, nb+1):\n",
    "      fact = fact * i\n",
    "    print (nb,'! = ',fact)\n",
    "\n",
    "factorielle(8)\n"
   ]
  },
  {
   "cell_type": "code",
   "execution_count": 69,
   "id": "4ff79d00-dc69-47ec-98e2-c53560f8fa7c",
   "metadata": {},
   "outputs": [
    {
     "name": "stdin",
     "output_type": "stream",
     "text": [
      "Saisir un chiffre:  6\n"
     ]
    },
    {
     "name": "stdout",
     "output_type": "stream",
     "text": [
      "\n",
      " La suite de fibonacci est :\n",
      "0 , 1, 1, 2, 3, 5, "
     ]
    }
   ],
   "source": [
    "#EXO 1 C\n",
    "\n",
    "chiffre = int(input(\"Saisir un chiffre: \"))\n",
    " \n",
    "n1 = 0\n",
    "n2 = 1\n",
    " \n",
    "print(\"\\n La suite de fibonacci est :\")\n",
    "print(n1, \",\", n2, end=\", \")\n",
    " \n",
    "for i in range(2, chiffre):\n",
    "  suivant = n1 + n2\n",
    "  print(suivant, end=\", \")\n",
    " \n",
    "  n1 = n2\n",
    "  n2 = suivant"
   ]
  },
  {
   "cell_type": "code",
   "execution_count": null,
   "id": "0ac925db-085f-4187-ab27-d2c81ff82d6c",
   "metadata": {},
   "outputs": [],
   "source": [
    "SAISIE = int(input(\"SAISIR UN CHIFFRE: \")) \n",
    "\n",
    "if SAISIE < 0 or SAISIE >= 1000000 or type(SAISIE) != str:\n",
    "    print(\"LE CHIFFRE SAISI N'EST PAS CORRECT\")\n",
    "else:\n",
    "    debut = 1\n",
    "for i in range(1, SAISIE+1):\n",
    "    debut = debut * i\n",
    "    print(debut)\n"
   ]
  },
  {
   "cell_type": "code",
   "execution_count": 138,
   "id": "e08dac86-28cc-4345-977c-2e004f85b0f1",
   "metadata": {},
   "outputs": [
    {
     "name": "stderr",
     "output_type": "stream",
     "text": [
      "<>:10: SyntaxWarning: 'float' object is not callable; perhaps you missed a comma?\n",
      "<>:10: SyntaxWarning: 'float' object is not callable; perhaps you missed a comma?\n",
      "<ipython-input-138-f61241f867f1>:10: SyntaxWarning: 'float' object is not callable; perhaps you missed a comma?\n",
      "  function = (entrée*3) - (1.5(entrée**2))- (6*entrée) + 5\n"
     ]
    },
    {
     "name": "stdin",
     "output_type": "stream",
     "text": [
      "Entrez une nombre  t\n"
     ]
    },
    {
     "name": "stdout",
     "output_type": "stream",
     "text": [
      "La valeur entrée est incorrect\n"
     ]
    }
   ],
   "source": [
    "# QUESTION 2\n",
    "\n",
    "try:   \n",
    "    entrée = int(input(\"Entrez une nombre \")) #variable qui permet a l'utilisateur de rentrer un nombre \n",
    "    if entrée < 0 or entrée >=1000 or type(entrée) != float: \n",
    "        print(\"le nombre entrée est incorrect\")\n",
    "    else:\n",
    "        if entrée == 0:\n",
    "            x=1\n",
    "        function = (entrée*3) - (1.5(entrée**2))- (6*entrée) + 5\n",
    "        print(function)\n",
    "\n",
    "except ValueError:\n",
    "    print(\"La valeur entrée est incorrect\")\n",
    "    "
   ]
  },
  {
   "cell_type": "code",
   "execution_count": null,
   "id": "d9b56f64-1085-471c-8001-3edc1037c594",
   "metadata": {},
   "outputs": [],
   "source": []
  },
  {
   "cell_type": "code",
   "execution_count": null,
   "id": "150f57e4-97ff-43c0-a1fb-f9b44bf4ef82",
   "metadata": {},
   "outputs": [],
   "source": []
  },
  {
   "cell_type": "code",
   "execution_count": null,
   "id": "3e108c6b-8510-4528-8c5f-ea6fd1324262",
   "metadata": {},
   "outputs": [],
   "source": []
  },
  {
   "cell_type": "code",
   "execution_count": null,
   "id": "8baa602d-e862-4248-a8d8-31866ee0b6fa",
   "metadata": {},
   "outputs": [],
   "source": []
  },
  {
   "cell_type": "code",
   "execution_count": null,
   "id": "a6d9c130-94c2-4f74-8fd6-5fe73fa34adb",
   "metadata": {},
   "outputs": [],
   "source": []
  },
  {
   "cell_type": "code",
   "execution_count": null,
   "id": "10636ac2-fd8b-401f-90f2-6d9899cea925",
   "metadata": {},
   "outputs": [],
   "source": []
  }
 ],
 "metadata": {
  "kernelspec": {
   "display_name": "Python 3",
   "language": "python",
   "name": "python3"
  },
  "language_info": {
   "codemirror_mode": {
    "name": "ipython",
    "version": 3
   },
   "file_extension": ".py",
   "mimetype": "text/x-python",
   "name": "python",
   "nbconvert_exporter": "python",
   "pygments_lexer": "ipython3",
   "version": "3.8.8"
  }
 },
 "nbformat": 4,
 "nbformat_minor": 5
}
